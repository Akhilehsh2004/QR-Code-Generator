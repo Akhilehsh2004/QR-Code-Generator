{
 "cells": [
  {
   "cell_type": "code",
   "execution_count": 24,
   "id": "62d43c04-d720-43e2-824e-a02ca51e9c92",
   "metadata": {},
   "outputs": [
    {
     "name": "stdout",
     "output_type": "stream",
     "text": [
      "QR Code saved as 'LindIn QR.png'\n"
     ]
    }
   ],
   "source": [
    "import qrcode\n",
    "\n",
    "# Data to encode\n",
    "data = \"https://www.linkedin.com/in/akhilesh2004\"\n",
    "\n",
    "# Create QR Code instance\n",
    "qr = qrcode.QRCode(\n",
    "    version=1,  # controls size of the QR Code (1 = 21x21)\n",
    "    error_correction=qrcode.constants.ERROR_CORRECT_L,  # L = 7% error tolerance\n",
    "    box_size=10,  # size of each box in pixels\n",
    "    border=4,  # border size in boxes\n",
    ")\n",
    "\n",
    "# Add data to QR code\n",
    "qr.add_data(data)\n",
    "qr.make(fit=True)\n",
    "\n",
    "# Generate image\n",
    "img = qr.make_image(fill_color=\"black\", back_color=\"white\")\n",
    "\n",
    "# Save the image\n",
    "img.save(\"LinkedIn QR.png\")\n",
    "\n",
    "print(\"QR Code saved as 'LindIn QR.png'\")\n"
   ]
  },
  {
   "cell_type": "code",
   "execution_count": null,
   "id": "1d27275f-d908-439c-b230-a5679356736a",
   "metadata": {},
   "outputs": [],
   "source": []
  },
  {
   "cell_type": "code",
   "execution_count": null,
   "id": "9364550f-8571-45f7-889d-c50c866ad9ed",
   "metadata": {},
   "outputs": [],
   "source": []
  }
 ],
 "metadata": {
  "kernelspec": {
   "display_name": "Python [conda env:base] *",
   "language": "python",
   "name": "conda-base-py"
  },
  "language_info": {
   "codemirror_mode": {
    "name": "ipython",
    "version": 3
   },
   "file_extension": ".py",
   "mimetype": "text/x-python",
   "name": "python",
   "nbconvert_exporter": "python",
   "pygments_lexer": "ipython3",
   "version": "3.12.7"
  }
 },
 "nbformat": 4,
 "nbformat_minor": 5
}
